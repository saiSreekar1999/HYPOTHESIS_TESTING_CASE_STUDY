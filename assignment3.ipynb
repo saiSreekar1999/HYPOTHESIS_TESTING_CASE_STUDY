{
 "cells": [
  {
   "cell_type": "markdown",
   "metadata": {},
   "source": [
    "FLAT RATE PRICING\n",
    "================="
   ]
  },
  {
   "cell_type": "code",
   "execution_count": 2,
   "metadata": {},
   "outputs": [
    {
     "name": "stdout",
     "output_type": "stream",
     "text": [
      "Requirement already satisfied: pyrsm in c:\\users\\jerem\\appdata\\local\\packages\\pythonsoftwarefoundation.python.3.11_qbz5n2kfra8p0\\localcache\\local-packages\\python311\\site-packages (0.9.7)\n",
      "Requirement already satisfied: shiny>=0.5.1 in c:\\users\\jerem\\appdata\\local\\packages\\pythonsoftwarefoundation.python.3.11_qbz5n2kfra8p0\\localcache\\local-packages\\python311\\site-packages (from pyrsm) (0.5.1)\n",
      "Requirement already satisfied: shinyswatch>=0.2.4 in c:\\users\\jerem\\appdata\\local\\packages\\pythonsoftwarefoundation.python.3.11_qbz5n2kfra8p0\\localcache\\local-packages\\python311\\site-packages (from pyrsm) (0.3.1)\n",
      "Requirement already satisfied: faicons>=0.2.1 in c:\\users\\jerem\\appdata\\local\\packages\\pythonsoftwarefoundation.python.3.11_qbz5n2kfra8p0\\localcache\\local-packages\\python311\\site-packages (from pyrsm) (0.2.1)\n",
      "Requirement already satisfied: numpy>=1.17.3 in c:\\users\\jerem\\appdata\\local\\packages\\pythonsoftwarefoundation.python.3.11_qbz5n2kfra8p0\\localcache\\local-packages\\python311\\site-packages (from pyrsm) (1.25.2)\n",
      "Requirement already satisfied: pandas>=2.0.3 in c:\\users\\jerem\\appdata\\local\\packages\\pythonsoftwarefoundation.python.3.11_qbz5n2kfra8p0\\localcache\\local-packages\\python311\\site-packages (from pyrsm) (2.0.3)\n",
      "Requirement already satisfied: polars>=0.18.15 in c:\\users\\jerem\\appdata\\local\\packages\\pythonsoftwarefoundation.python.3.11_qbz5n2kfra8p0\\localcache\\local-packages\\python311\\site-packages (from pyrsm) (0.19.9)\n",
      "Requirement already satisfied: duckdb>=0.8.1 in c:\\users\\jerem\\appdata\\local\\packages\\pythonsoftwarefoundation.python.3.11_qbz5n2kfra8p0\\localcache\\local-packages\\python311\\site-packages (from pyrsm) (0.9.1)\n",
      "Requirement already satisfied: ipykernel>=6.23.1 in c:\\users\\jerem\\appdata\\local\\packages\\pythonsoftwarefoundation.python.3.11_qbz5n2kfra8p0\\localcache\\local-packages\\python311\\site-packages (from pyrsm) (6.25.1)\n",
      "Requirement already satisfied: seaborn>=0.9.0 in c:\\users\\jerem\\appdata\\local\\packages\\pythonsoftwarefoundation.python.3.11_qbz5n2kfra8p0\\localcache\\local-packages\\python311\\site-packages (from pyrsm) (0.13.0)\n",
      "Requirement already satisfied: matplotlib>=3.1.1 in c:\\users\\jerem\\appdata\\local\\packages\\pythonsoftwarefoundation.python.3.11_qbz5n2kfra8p0\\localcache\\local-packages\\python311\\site-packages (from pyrsm) (3.7.2)\n",
      "Requirement already satisfied: statsmodels>=0.10.1 in c:\\users\\jerem\\appdata\\local\\packages\\pythonsoftwarefoundation.python.3.11_qbz5n2kfra8p0\\localcache\\local-packages\\python311\\site-packages (from pyrsm) (0.14.0)\n",
      "Requirement already satisfied: scipy>=1.4.1 in c:\\users\\jerem\\appdata\\local\\packages\\pythonsoftwarefoundation.python.3.11_qbz5n2kfra8p0\\localcache\\local-packages\\python311\\site-packages (from pyrsm) (1.11.1)\n",
      "Requirement already satisfied: scikit-learn>=1.0.2 in c:\\users\\jerem\\appdata\\local\\packages\\pythonsoftwarefoundation.python.3.11_qbz5n2kfra8p0\\localcache\\local-packages\\python311\\site-packages (from pyrsm) (1.3.1)\n",
      "Requirement already satisfied: IPython>=8.0.1 in c:\\users\\jerem\\appdata\\local\\packages\\pythonsoftwarefoundation.python.3.11_qbz5n2kfra8p0\\localcache\\local-packages\\python311\\site-packages (from pyrsm) (8.14.0)\n",
      "Requirement already satisfied: nest-asyncio>=1.5.6 in c:\\users\\jerem\\appdata\\local\\packages\\pythonsoftwarefoundation.python.3.11_qbz5n2kfra8p0\\localcache\\local-packages\\python311\\site-packages (from pyrsm) (1.5.7)\n",
      "Requirement already satisfied: black>=22.6.0 in c:\\users\\jerem\\appdata\\local\\packages\\pythonsoftwarefoundation.python.3.11_qbz5n2kfra8p0\\localcache\\local-packages\\python311\\site-packages (from pyrsm) (23.10.1)\n",
      "Requirement already satisfied: pyarrow>=12.0.1 in c:\\users\\jerem\\appdata\\local\\packages\\pythonsoftwarefoundation.python.3.11_qbz5n2kfra8p0\\localcache\\local-packages\\python311\\site-packages (from pyrsm) (13.0.0)\n",
      "Requirement already satisfied: click>=8.0.0 in c:\\users\\jerem\\appdata\\local\\packages\\pythonsoftwarefoundation.python.3.11_qbz5n2kfra8p0\\localcache\\local-packages\\python311\\site-packages (from black>=22.6.0->pyrsm) (8.1.7)\n",
      "Requirement already satisfied: mypy-extensions>=0.4.3 in c:\\users\\jerem\\appdata\\local\\packages\\pythonsoftwarefoundation.python.3.11_qbz5n2kfra8p0\\localcache\\local-packages\\python311\\site-packages (from black>=22.6.0->pyrsm) (1.0.0)\n",
      "Requirement already satisfied: packaging>=22.0 in c:\\users\\jerem\\appdata\\local\\packages\\pythonsoftwarefoundation.python.3.11_qbz5n2kfra8p0\\localcache\\local-packages\\python311\\site-packages (from black>=22.6.0->pyrsm) (23.1)\n",
      "Requirement already satisfied: pathspec>=0.9.0 in c:\\users\\jerem\\appdata\\local\\packages\\pythonsoftwarefoundation.python.3.11_qbz5n2kfra8p0\\localcache\\local-packages\\python311\\site-packages (from black>=22.6.0->pyrsm) (0.11.2)\n",
      "Requirement already satisfied: platformdirs>=2 in c:\\users\\jerem\\appdata\\local\\packages\\pythonsoftwarefoundation.python.3.11_qbz5n2kfra8p0\\localcache\\local-packages\\python311\\site-packages (from black>=22.6.0->pyrsm) (3.8.1)\n",
      "Requirement already satisfied: htmltools in c:\\users\\jerem\\appdata\\local\\packages\\pythonsoftwarefoundation.python.3.11_qbz5n2kfra8p0\\localcache\\local-packages\\python311\\site-packages (from faicons>=0.2.1->pyrsm) (0.3.0)\n",
      "Requirement already satisfied: comm>=0.1.1 in c:\\users\\jerem\\appdata\\local\\packages\\pythonsoftwarefoundation.python.3.11_qbz5n2kfra8p0\\localcache\\local-packages\\python311\\site-packages (from ipykernel>=6.23.1->pyrsm) (0.1.4)\n",
      "Requirement already satisfied: debugpy>=1.6.5 in c:\\users\\jerem\\appdata\\local\\packages\\pythonsoftwarefoundation.python.3.11_qbz5n2kfra8p0\\localcache\\local-packages\\python311\\site-packages (from ipykernel>=6.23.1->pyrsm) (1.6.7.post1)\n",
      "Requirement already satisfied: jupyter-client>=6.1.12 in c:\\users\\jerem\\appdata\\local\\packages\\pythonsoftwarefoundation.python.3.11_qbz5n2kfra8p0\\localcache\\local-packages\\python311\\site-packages (from ipykernel>=6.23.1->pyrsm) (7.4.9)\n",
      "Requirement already satisfied: jupyter-core!=5.0.*,>=4.12 in c:\\users\\jerem\\appdata\\local\\packages\\pythonsoftwarefoundation.python.3.11_qbz5n2kfra8p0\\localcache\\local-packages\\python311\\site-packages (from ipykernel>=6.23.1->pyrsm) (5.3.1)\n",
      "Requirement already satisfied: matplotlib-inline>=0.1 in c:\\users\\jerem\\appdata\\local\\packages\\pythonsoftwarefoundation.python.3.11_qbz5n2kfra8p0\\localcache\\local-packages\\python311\\site-packages (from ipykernel>=6.23.1->pyrsm) (0.1.6)\n",
      "Requirement already satisfied: psutil in c:\\users\\jerem\\appdata\\local\\packages\\pythonsoftwarefoundation.python.3.11_qbz5n2kfra8p0\\localcache\\local-packages\\python311\\site-packages (from ipykernel>=6.23.1->pyrsm) (5.9.5)\n",
      "Requirement already satisfied: pyzmq>=20 in c:\\users\\jerem\\appdata\\local\\packages\\pythonsoftwarefoundation.python.3.11_qbz5n2kfra8p0\\localcache\\local-packages\\python311\\site-packages (from ipykernel>=6.23.1->pyrsm) (24.0.1)\n",
      "Requirement already satisfied: tornado>=6.1 in c:\\users\\jerem\\appdata\\local\\packages\\pythonsoftwarefoundation.python.3.11_qbz5n2kfra8p0\\localcache\\local-packages\\python311\\site-packages (from ipykernel>=6.23.1->pyrsm) (6.3.2)\n",
      "Requirement already satisfied: traitlets>=5.4.0 in c:\\users\\jerem\\appdata\\local\\packages\\pythonsoftwarefoundation.python.3.11_qbz5n2kfra8p0\\localcache\\local-packages\\python311\\site-packages (from ipykernel>=6.23.1->pyrsm) (5.9.0)\n",
      "Requirement already satisfied: backcall in c:\\users\\jerem\\appdata\\local\\packages\\pythonsoftwarefoundation.python.3.11_qbz5n2kfra8p0\\localcache\\local-packages\\python311\\site-packages (from IPython>=8.0.1->pyrsm) (0.2.0)\n",
      "Requirement already satisfied: decorator in c:\\users\\jerem\\appdata\\local\\packages\\pythonsoftwarefoundation.python.3.11_qbz5n2kfra8p0\\localcache\\local-packages\\python311\\site-packages (from IPython>=8.0.1->pyrsm) (5.1.1)\n",
      "Requirement already satisfied: jedi>=0.16 in c:\\users\\jerem\\appdata\\local\\packages\\pythonsoftwarefoundation.python.3.11_qbz5n2kfra8p0\\localcache\\local-packages\\python311\\site-packages (from IPython>=8.0.1->pyrsm) (0.19.0)\n",
      "Requirement already satisfied: pickleshare in c:\\users\\jerem\\appdata\\local\\packages\\pythonsoftwarefoundation.python.3.11_qbz5n2kfra8p0\\localcache\\local-packages\\python311\\site-packages (from IPython>=8.0.1->pyrsm) (0.7.5)\n",
      "Requirement already satisfied: prompt-toolkit!=3.0.37,<3.1.0,>=3.0.30 in c:\\users\\jerem\\appdata\\local\\packages\\pythonsoftwarefoundation.python.3.11_qbz5n2kfra8p0\\localcache\\local-packages\\python311\\site-packages (from IPython>=8.0.1->pyrsm) (3.0.39)\n",
      "Requirement already satisfied: pygments>=2.4.0 in c:\\users\\jerem\\appdata\\local\\packages\\pythonsoftwarefoundation.python.3.11_qbz5n2kfra8p0\\localcache\\local-packages\\python311\\site-packages (from IPython>=8.0.1->pyrsm) (2.16.1)\n",
      "Requirement already satisfied: stack-data in c:\\users\\jerem\\appdata\\local\\packages\\pythonsoftwarefoundation.python.3.11_qbz5n2kfra8p0\\localcache\\local-packages\\python311\\site-packages (from IPython>=8.0.1->pyrsm) (0.6.2)\n",
      "Requirement already satisfied: colorama in c:\\users\\jerem\\appdata\\local\\packages\\pythonsoftwarefoundation.python.3.11_qbz5n2kfra8p0\\localcache\\local-packages\\python311\\site-packages (from IPython>=8.0.1->pyrsm) (0.4.6)\n",
      "Requirement already satisfied: contourpy>=1.0.1 in c:\\users\\jerem\\appdata\\local\\packages\\pythonsoftwarefoundation.python.3.11_qbz5n2kfra8p0\\localcache\\local-packages\\python311\\site-packages (from matplotlib>=3.1.1->pyrsm) (1.1.0)\n",
      "Requirement already satisfied: cycler>=0.10 in c:\\users\\jerem\\appdata\\local\\packages\\pythonsoftwarefoundation.python.3.11_qbz5n2kfra8p0\\localcache\\local-packages\\python311\\site-packages (from matplotlib>=3.1.1->pyrsm) (0.11.0)\n",
      "Requirement already satisfied: fonttools>=4.22.0 in c:\\users\\jerem\\appdata\\local\\packages\\pythonsoftwarefoundation.python.3.11_qbz5n2kfra8p0\\localcache\\local-packages\\python311\\site-packages (from matplotlib>=3.1.1->pyrsm) (4.42.0)\n",
      "Requirement already satisfied: kiwisolver>=1.0.1 in c:\\users\\jerem\\appdata\\local\\packages\\pythonsoftwarefoundation.python.3.11_qbz5n2kfra8p0\\localcache\\local-packages\\python311\\site-packages (from matplotlib>=3.1.1->pyrsm) (1.4.4)\n",
      "Requirement already satisfied: pillow>=6.2.0 in c:\\users\\jerem\\appdata\\local\\packages\\pythonsoftwarefoundation.python.3.11_qbz5n2kfra8p0\\localcache\\local-packages\\python311\\site-packages (from matplotlib>=3.1.1->pyrsm) (10.0.0)\n",
      "Requirement already satisfied: pyparsing<3.1,>=2.3.1 in c:\\users\\jerem\\appdata\\local\\packages\\pythonsoftwarefoundation.python.3.11_qbz5n2kfra8p0\\localcache\\local-packages\\python311\\site-packages (from matplotlib>=3.1.1->pyrsm) (3.0.9)\n",
      "Requirement already satisfied: python-dateutil>=2.7 in c:\\users\\jerem\\appdata\\local\\packages\\pythonsoftwarefoundation.python.3.11_qbz5n2kfra8p0\\localcache\\local-packages\\python311\\site-packages (from matplotlib>=3.1.1->pyrsm) (2.8.2)\n",
      "Requirement already satisfied: pytz>=2020.1 in c:\\users\\jerem\\appdata\\local\\packages\\pythonsoftwarefoundation.python.3.11_qbz5n2kfra8p0\\localcache\\local-packages\\python311\\site-packages (from pandas>=2.0.3->pyrsm) (2023.3)\n",
      "Requirement already satisfied: tzdata>=2022.1 in c:\\users\\jerem\\appdata\\local\\packages\\pythonsoftwarefoundation.python.3.11_qbz5n2kfra8p0\\localcache\\local-packages\\python311\\site-packages (from pandas>=2.0.3->pyrsm) (2023.3)\n",
      "Requirement already satisfied: joblib>=1.1.1 in c:\\users\\jerem\\appdata\\local\\packages\\pythonsoftwarefoundation.python.3.11_qbz5n2kfra8p0\\localcache\\local-packages\\python311\\site-packages (from scikit-learn>=1.0.2->pyrsm) (1.3.2)\n",
      "Requirement already satisfied: threadpoolctl>=2.0.0 in c:\\users\\jerem\\appdata\\local\\packages\\pythonsoftwarefoundation.python.3.11_qbz5n2kfra8p0\\localcache\\local-packages\\python311\\site-packages (from scikit-learn>=1.0.2->pyrsm) (3.2.0)\n",
      "Requirement already satisfied: typing-extensions>=4.0.1 in c:\\users\\jerem\\appdata\\local\\packages\\pythonsoftwarefoundation.python.3.11_qbz5n2kfra8p0\\localcache\\local-packages\\python311\\site-packages (from shiny>=0.5.1->pyrsm) (4.7.1)\n",
      "Requirement already satisfied: uvicorn>=0.16.0 in c:\\users\\jerem\\appdata\\local\\packages\\pythonsoftwarefoundation.python.3.11_qbz5n2kfra8p0\\localcache\\local-packages\\python311\\site-packages (from shiny>=0.5.1->pyrsm) (0.23.2)\n",
      "Requirement already satisfied: starlette>=0.17.1 in c:\\users\\jerem\\appdata\\local\\packages\\pythonsoftwarefoundation.python.3.11_qbz5n2kfra8p0\\localcache\\local-packages\\python311\\site-packages (from shiny>=0.5.1->pyrsm) (0.31.1)\n",
      "Requirement already satisfied: websockets>=10.0 in c:\\users\\jerem\\appdata\\local\\packages\\pythonsoftwarefoundation.python.3.11_qbz5n2kfra8p0\\localcache\\local-packages\\python311\\site-packages (from shiny>=0.5.1->pyrsm) (12.0)\n",
      "Requirement already satisfied: python-multipart in c:\\users\\jerem\\appdata\\local\\packages\\pythonsoftwarefoundation.python.3.11_qbz5n2kfra8p0\\localcache\\local-packages\\python311\\site-packages (from shiny>=0.5.1->pyrsm) (0.0.6)\n",
      "Requirement already satisfied: markdown-it-py>=1.1.0 in c:\\users\\jerem\\appdata\\local\\packages\\pythonsoftwarefoundation.python.3.11_qbz5n2kfra8p0\\localcache\\local-packages\\python311\\site-packages (from shiny>=0.5.1->pyrsm) (3.0.0)\n",
      "Requirement already satisfied: mdit-py-plugins>=0.3.0 in c:\\users\\jerem\\appdata\\local\\packages\\pythonsoftwarefoundation.python.3.11_qbz5n2kfra8p0\\localcache\\local-packages\\python311\\site-packages (from shiny>=0.5.1->pyrsm) (0.4.0)\n",
      "Requirement already satisfied: linkify-it-py>=1.0 in c:\\users\\jerem\\appdata\\local\\packages\\pythonsoftwarefoundation.python.3.11_qbz5n2kfra8p0\\localcache\\local-packages\\python311\\site-packages (from shiny>=0.5.1->pyrsm) (2.0.2)\n",
      "Requirement already satisfied: appdirs>=1.4.4 in c:\\users\\jerem\\appdata\\local\\packages\\pythonsoftwarefoundation.python.3.11_qbz5n2kfra8p0\\localcache\\local-packages\\python311\\site-packages (from shiny>=0.5.1->pyrsm) (1.4.4)\n",
      "Requirement already satisfied: asgiref>=3.5.2 in c:\\users\\jerem\\appdata\\local\\packages\\pythonsoftwarefoundation.python.3.11_qbz5n2kfra8p0\\localcache\\local-packages\\python311\\site-packages (from shiny>=0.5.1->pyrsm) (3.7.2)\n",
      "Requirement already satisfied: watchfiles>=0.18.0 in c:\\users\\jerem\\appdata\\local\\packages\\pythonsoftwarefoundation.python.3.11_qbz5n2kfra8p0\\localcache\\local-packages\\python311\\site-packages (from shiny>=0.5.1->pyrsm) (0.21.0)\n",
      "Requirement already satisfied: XStatic-bootswatch>=3.3.7.0 in c:\\users\\jerem\\appdata\\local\\packages\\pythonsoftwarefoundation.python.3.11_qbz5n2kfra8p0\\localcache\\local-packages\\python311\\site-packages (from shinyswatch>=0.2.4->pyrsm) (3.3.7.0)\n",
      "Requirement already satisfied: patsy>=0.5.2 in c:\\users\\jerem\\appdata\\local\\packages\\pythonsoftwarefoundation.python.3.11_qbz5n2kfra8p0\\localcache\\local-packages\\python311\\site-packages (from statsmodels>=0.10.1->pyrsm) (0.5.3)\n",
      "Requirement already satisfied: parso<0.9.0,>=0.8.3 in c:\\users\\jerem\\appdata\\local\\packages\\pythonsoftwarefoundation.python.3.11_qbz5n2kfra8p0\\localcache\\local-packages\\python311\\site-packages (from jedi>=0.16->IPython>=8.0.1->pyrsm) (0.8.3)\n",
      "Requirement already satisfied: entrypoints in c:\\users\\jerem\\appdata\\local\\packages\\pythonsoftwarefoundation.python.3.11_qbz5n2kfra8p0\\localcache\\local-packages\\python311\\site-packages (from jupyter-client>=6.1.12->ipykernel>=6.23.1->pyrsm) (0.4)\n",
      "Requirement already satisfied: pywin32>=300 in c:\\users\\jerem\\appdata\\local\\packages\\pythonsoftwarefoundation.python.3.11_qbz5n2kfra8p0\\localcache\\local-packages\\python311\\site-packages (from jupyter-core!=5.0.*,>=4.12->ipykernel>=6.23.1->pyrsm) (306)\n",
      "Requirement already satisfied: uc-micro-py in c:\\users\\jerem\\appdata\\local\\packages\\pythonsoftwarefoundation.python.3.11_qbz5n2kfra8p0\\localcache\\local-packages\\python311\\site-packages (from linkify-it-py>=1.0->shiny>=0.5.1->pyrsm) (1.0.2)\n",
      "Requirement already satisfied: mdurl~=0.1 in c:\\users\\jerem\\appdata\\local\\packages\\pythonsoftwarefoundation.python.3.11_qbz5n2kfra8p0\\localcache\\local-packages\\python311\\site-packages (from markdown-it-py>=1.1.0->shiny>=0.5.1->pyrsm) (0.1.2)\n",
      "Requirement already satisfied: six in c:\\users\\jerem\\appdata\\local\\packages\\pythonsoftwarefoundation.python.3.11_qbz5n2kfra8p0\\localcache\\local-packages\\python311\\site-packages (from patsy>=0.5.2->statsmodels>=0.10.1->pyrsm) (1.16.0)\n",
      "Requirement already satisfied: wcwidth in c:\\users\\jerem\\appdata\\local\\packages\\pythonsoftwarefoundation.python.3.11_qbz5n2kfra8p0\\localcache\\local-packages\\python311\\site-packages (from prompt-toolkit!=3.0.37,<3.1.0,>=3.0.30->IPython>=8.0.1->pyrsm) (0.2.6)\n",
      "Requirement already satisfied: anyio<5,>=3.4.0 in c:\\users\\jerem\\appdata\\local\\packages\\pythonsoftwarefoundation.python.3.11_qbz5n2kfra8p0\\localcache\\local-packages\\python311\\site-packages (from starlette>=0.17.1->shiny>=0.5.1->pyrsm) (3.7.1)\n",
      "Requirement already satisfied: h11>=0.8 in c:\\users\\jerem\\appdata\\local\\packages\\pythonsoftwarefoundation.python.3.11_qbz5n2kfra8p0\\localcache\\local-packages\\python311\\site-packages (from uvicorn>=0.16.0->shiny>=0.5.1->pyrsm) (0.14.0)\n",
      "Requirement already satisfied: executing>=1.2.0 in c:\\users\\jerem\\appdata\\local\\packages\\pythonsoftwarefoundation.python.3.11_qbz5n2kfra8p0\\localcache\\local-packages\\python311\\site-packages (from stack-data->IPython>=8.0.1->pyrsm) (1.2.0)\n",
      "Requirement already satisfied: asttokens>=2.1.0 in c:\\users\\jerem\\appdata\\local\\packages\\pythonsoftwarefoundation.python.3.11_qbz5n2kfra8p0\\localcache\\local-packages\\python311\\site-packages (from stack-data->IPython>=8.0.1->pyrsm) (2.2.1)\n",
      "Requirement already satisfied: pure-eval in c:\\users\\jerem\\appdata\\local\\packages\\pythonsoftwarefoundation.python.3.11_qbz5n2kfra8p0\\localcache\\local-packages\\python311\\site-packages (from stack-data->IPython>=8.0.1->pyrsm) (0.2.2)\n",
      "Requirement already satisfied: idna>=2.8 in c:\\users\\jerem\\appdata\\local\\packages\\pythonsoftwarefoundation.python.3.11_qbz5n2kfra8p0\\localcache\\local-packages\\python311\\site-packages (from anyio<5,>=3.4.0->starlette>=0.17.1->shiny>=0.5.1->pyrsm) (3.4)\n",
      "Requirement already satisfied: sniffio>=1.1 in c:\\users\\jerem\\appdata\\local\\packages\\pythonsoftwarefoundation.python.3.11_qbz5n2kfra8p0\\localcache\\local-packages\\python311\\site-packages (from anyio<5,>=3.4.0->starlette>=0.17.1->shiny>=0.5.1->pyrsm) (1.3.0)\n",
      "Note: you may need to restart the kernel to use updated packages.\n"
     ]
    },
    {
     "name": "stderr",
     "output_type": "stream",
     "text": [
      "\n",
      "[notice] A new release of pip is available: 23.2.1 -> 23.3.1\n",
      "[notice] To update, run: C:\\Users\\jerem\\AppData\\Local\\Microsoft\\WindowsApps\\PythonSoftwareFoundation.Python.3.11_qbz5n2kfra8p0\\python.exe -m pip install --upgrade pip\n"
     ]
    }
   ],
   "source": [
    "pip install pyrsm"
   ]
  },
  {
   "cell_type": "markdown",
   "metadata": {},
   "source": [
    "H_o = The Proportion of purchases under FR pricing and FR with Charity pricing are equal\n",
    "\n",
    "H_a = The Proportion of purchases under FR pricing and FR with Charity pricing are not equal"
   ]
  },
  {
   "cell_type": "code",
   "execution_count": 20,
   "metadata": {},
   "outputs": [
    {
     "name": "stdout",
     "output_type": "stream",
     "text": [
      "Fail to reject the null hypothesis\n"
     ]
    }
   ],
   "source": [
    "import pandas as pd\n",
    "import numpy as np\n",
    "import matplotlib.pyplot as plt\n",
    "import math\n",
    "import seaborn as sns\n",
    "import scipy.stats as stats\n",
    "from scipy.stats import norm\n",
    "from scipy.stats import t\n",
    "import pyrsm as rsm\n",
    "from scipy.stats import ttest_ind\n",
    "sales_df = pd.read_csv('Sales.csv')\n",
    "sales_group_df = sales_df.groupby('Condition').sum().reset_index()\n",
    "p_1 = (sales_group_df[sales_group_df['Condition'] == 'FR']['NumberSold'] / sales_group_df[sales_group_df['Condition'] == 'FR']['Riders']).values[0]\n",
    "p_2 = (sales_group_df[sales_group_df['Condition'] == 'FR Charity']['NumberSold'] / sales_group_df[sales_group_df['Condition'] == 'FR Charity']['Riders']).values[0]\n",
    "n_1 = sales_group_df[sales_group_df['Condition'] == 'FR']['Riders'].values[0]\n",
    "n_2 = sales_group_df[sales_group_df['Condition'] == 'FR Charity']['Riders'].values[0]\n",
    "test_statistic = round((p_1 - p_2) / np.sqrt((p_1 * (1 - p_1) / n_1) + (p_2 * (1 - p_2) / n_2)),3)\n",
    "p_value = round(2 * (1 - norm.cdf(abs(test_statistic))),3)\n",
    "\n",
    "if p_value < 0.05:\n",
    "    print(\"Reject the null hypothesis\")\n",
    "else:\n",
    "    print(\"Fail to reject the null hypothesis\")\n"
   ]
  },
  {
   "cell_type": "markdown",
   "metadata": {},
   "source": []
  },
  {
   "cell_type": "markdown",
   "metadata": {},
   "source": [
    "Fail to reject the null hypothesis"
   ]
  },
  {
   "cell_type": "markdown",
   "metadata": {},
   "source": [
    "NYOP Pricing\n",
    "============"
   ]
  },
  {
   "cell_type": "code",
   "execution_count": 22,
   "metadata": {},
   "outputs": [
    {
     "name": "stdout",
     "output_type": "stream",
     "text": [
      "0.0\n",
      "Reject the null hypothesis\n"
     ]
    }
   ],
   "source": [
    "sales_group_df = sales_df.groupby('Condition').sum().reset_index()\n",
    "p1 = (sales_group_df[sales_group_df['Condition'] == 'NYOP']['NumberSold'] / sales_group_df[sales_group_df['Condition'] == 'NYOP']['Riders']).values[0]\n",
    "p2 = (sales_group_df[sales_group_df['Condition'] == 'NYOP Charity']['NumberSold'] / sales_group_df[sales_group_df['Condition'] == 'NYOP Charity']['Riders']).values[0]\n",
    "n1 = sales_group_df[sales_group_df['Condition'] == 'NYOP']['Riders'].values[0]\n",
    "n2 = sales_group_df[sales_group_df['Condition'] == 'NYOP Charity']['Riders'].values[0]\n",
    "\n",
    "test_statistic = round((p1 - p2) / np.sqrt((p1 * (1 - p1) / n1) + (p2 * (1 - p2) / n2)),3)\n",
    "p_value = round(2 * (1 - norm.cdf(abs(test_statistic))),3)\n",
    "print(p_value)\n",
    "\n",
    "if p_value < 0.05:\n",
    "    print(\"Reject the null hypothesis\")\n",
    "else:\n",
    "    print(\"Fail to reject the null hypothesis\")"
   ]
  },
  {
   "cell_type": "markdown",
   "metadata": {},
   "source": [
    "Question_a\n",
    "\n",
    "Load “NYOP.csv”. Create a variable called UnitPrice which takes the variable, Price, and divides it by Number. After doing so, next change the type of the variable, Number, to a factor variable"
   ]
  },
  {
   "cell_type": "code",
   "execution_count": 5,
   "metadata": {},
   "outputs": [
    {
     "data": {
      "text/html": [
       "<div>\n",
       "<style scoped>\n",
       "    .dataframe tbody tr th:only-of-type {\n",
       "        vertical-align: middle;\n",
       "    }\n",
       "\n",
       "    .dataframe tbody tr th {\n",
       "        vertical-align: top;\n",
       "    }\n",
       "\n",
       "    .dataframe thead th {\n",
       "        text-align: right;\n",
       "    }\n",
       "</style>\n",
       "<table border=\"1\" class=\"dataframe\">\n",
       "  <thead>\n",
       "    <tr style=\"text-align: right;\">\n",
       "      <th></th>\n",
       "      <th>Condition</th>\n",
       "      <th>Number</th>\n",
       "      <th>Price</th>\n",
       "      <th>UnitPrice</th>\n",
       "    </tr>\n",
       "  </thead>\n",
       "  <tbody>\n",
       "    <tr>\n",
       "      <th>0</th>\n",
       "      <td>NYOP</td>\n",
       "      <td>1</td>\n",
       "      <td>1.00</td>\n",
       "      <td>1.00</td>\n",
       "    </tr>\n",
       "    <tr>\n",
       "      <th>1</th>\n",
       "      <td>NYOP</td>\n",
       "      <td>1</td>\n",
       "      <td>1.00</td>\n",
       "      <td>1.00</td>\n",
       "    </tr>\n",
       "    <tr>\n",
       "      <th>2</th>\n",
       "      <td>NYOP</td>\n",
       "      <td>1</td>\n",
       "      <td>0.01</td>\n",
       "      <td>0.01</td>\n",
       "    </tr>\n",
       "    <tr>\n",
       "      <th>3</th>\n",
       "      <td>NYOP</td>\n",
       "      <td>1</td>\n",
       "      <td>0.10</td>\n",
       "      <td>0.10</td>\n",
       "    </tr>\n",
       "    <tr>\n",
       "      <th>4</th>\n",
       "      <td>NYOP</td>\n",
       "      <td>1</td>\n",
       "      <td>0.01</td>\n",
       "      <td>0.01</td>\n",
       "    </tr>\n",
       "    <tr>\n",
       "      <th>...</th>\n",
       "      <td>...</td>\n",
       "      <td>...</td>\n",
       "      <td>...</td>\n",
       "      <td>...</td>\n",
       "    </tr>\n",
       "    <tr>\n",
       "      <th>3093</th>\n",
       "      <td>NYOP Charity</td>\n",
       "      <td>1</td>\n",
       "      <td>9.38</td>\n",
       "      <td>9.38</td>\n",
       "    </tr>\n",
       "    <tr>\n",
       "      <th>3094</th>\n",
       "      <td>NYOP Charity</td>\n",
       "      <td>1</td>\n",
       "      <td>1.00</td>\n",
       "      <td>1.00</td>\n",
       "    </tr>\n",
       "    <tr>\n",
       "      <th>3095</th>\n",
       "      <td>NYOP Charity</td>\n",
       "      <td>1</td>\n",
       "      <td>0.93</td>\n",
       "      <td>0.93</td>\n",
       "    </tr>\n",
       "    <tr>\n",
       "      <th>3096</th>\n",
       "      <td>NYOP Charity</td>\n",
       "      <td>1</td>\n",
       "      <td>9.38</td>\n",
       "      <td>9.38</td>\n",
       "    </tr>\n",
       "    <tr>\n",
       "      <th>3097</th>\n",
       "      <td>NYOP Charity</td>\n",
       "      <td>1</td>\n",
       "      <td>1.87</td>\n",
       "      <td>1.87</td>\n",
       "    </tr>\n",
       "  </tbody>\n",
       "</table>\n",
       "<p>3098 rows × 4 columns</p>\n",
       "</div>"
      ],
      "text/plain": [
       "         Condition Number  Price  UnitPrice\n",
       "0             NYOP      1   1.00       1.00\n",
       "1             NYOP      1   1.00       1.00\n",
       "2             NYOP      1   0.01       0.01\n",
       "3             NYOP      1   0.10       0.10\n",
       "4             NYOP      1   0.01       0.01\n",
       "...            ...    ...    ...        ...\n",
       "3093  NYOP Charity      1   9.38       9.38\n",
       "3094  NYOP Charity      1   1.00       1.00\n",
       "3095  NYOP Charity      1   0.93       0.93\n",
       "3096  NYOP Charity      1   9.38       9.38\n",
       "3097  NYOP Charity      1   1.87       1.87\n",
       "\n",
       "[3098 rows x 4 columns]"
      ]
     },
     "execution_count": 5,
     "metadata": {},
     "output_type": "execute_result"
    }
   ],
   "source": [
    "nyop_df = pd.read_csv('NYOP.csv')\n",
    "nyop_df['UnitPrice'] = nyop_df['Price'] / nyop_df['Number']\n",
    "nyop_df['Number'] = pd.Categorical(nyop_df['Number'])\n",
    "nyop_df"
   ]
  },
  {
   "cell_type": "markdown",
   "metadata": {},
   "source": []
  },
  {
   "cell_type": "markdown",
   "metadata": {},
   "source": [
    "Question_b\n",
    "\n",
    "Visualize both Price and UnitPrice against the factor variable, Number by creating box plots and interpreting them."
   ]
  },
  {
   "cell_type": "markdown",
   "metadata": {},
   "source": []
  },
  {
   "cell_type": "code",
   "execution_count": 6,
   "metadata": {},
   "outputs": [
    {
     "data": {
      "text/plain": [
       "Text(0, 0.5, 'UnitPrice')"
      ]
     },
     "execution_count": 6,
     "metadata": {},
     "output_type": "execute_result"
    },
    {
     "data": {
      "image/png": "[encoded data removed]",
      "text/plain": [
       "<Figure size 1200x600 with 1 Axes>"
      ]
     },
     "metadata": {},
     "output_type": "display_data"
    },
    {
     "data": {
      "image/png": "[encoded data removed]",
      "text/plain": [
       "<Figure size 1200x600 with 1 Axes>"
      ]
     },
     "metadata": {},
     "output_type": "display_data"
    }
   ],
   "source": [
    "# Create another box plot for Price\n",
    "plt.figure(figsize=(12, 6))\n",
    "sns.boxplot(x='Number', y='Price', data=nyop_df)\n",
    "plt.title('Box Plot of Price vs. Number')\n",
    "plt.xlabel('Number')\n",
    "plt.ylabel('Price')\n",
    "\n",
    "\n",
    "# Create another box plot for UnitPrice\n",
    "plt.figure(figsize=(12, 6))\n",
    "sns.boxplot(x='Number', y='UnitPrice', data=nyop_df)\n",
    "plt.title('Box Plot of UnitPrice vs. Number')\n",
    "plt.xlabel('Number')\n",
    "plt.ylabel('UnitPrice')"
   ]
  },
  {
   "cell_type": "markdown",
   "metadata": {},
   "source": [
    "Question C Determine the average unit purchase price for both the NYOP and the NYOP Charity conditions. Does the difference seem small or substantial? Formulate a statistical test to determine if these two average unit prices are different."
   ]
  },
  {
   "cell_type": "code",
   "execution_count": 7,
   "metadata": {},
   "outputs": [
    {
     "name": "stdout",
     "output_type": "stream",
     "text": [
      "      Condition  UnitPrice\n",
      "0          NYOP   1.040439\n",
      "1  NYOP Charity   5.680480\n"
     ]
    }
   ],
   "source": [
    "average = nyop_df.groupby('Condition')['UnitPrice'].mean().reset_index()\n",
    "print(average)"
   ]
  },
  {
   "cell_type": "markdown",
   "metadata": {},
   "source": [
    "Question d\n",
    "\n",
    "Ho = There is no difference between the average unit price for NYOP and NYOP Charity\n",
    "\n",
    "Ha = There is a difference between the average unit price for NYOP and NYOP Charity"
   ]
  },
  {
   "cell_type": "markdown",
   "metadata": {},
   "source": [
    "Question E\n",
    "\n",
    "Use the pyrsm library to perform the test computation (Compare means). What can you conclude? What is the likelihood you have made either a Type I or Type II error based on your conclusion?"
   ]
  },
  {
   "cell_type": "code",
   "execution_count": 8,
   "metadata": {},
   "outputs": [
    {
     "name": "stdout",
     "output_type": "stream",
     "text": [
      "Pairwise mean comparisons (t-test)\n",
      "Data      : nyop_df\n",
      "Variables : Condition, UnitPrice\n",
      "Samples   : independent\n",
      "Confidence: 0.95\n",
      "Adjustment: None\n",
      "   Condition  mean    n  n_missing    sd    se    me\n",
      "        NYOP  1.04 1641          0 1.305 0.032 0.063\n",
      "NYOP Charity  5.68 1457          0 4.670 0.122 0.240\n",
      "          Null hyp.                      Alt. hyp.  diff p.value    \n",
      "NYOP = NYOP Charity NYOP not equal to NYOP Charity -4.64  < .001 ***\n",
      "\n",
      "Signif. codes:  0 '***' 0.001 '**' 0.01 '*' 0.05 '.' 0.1 ' ' 1\n"
     ]
    }
   ],
   "source": [
    "# Filter data for the two conditions you want to compare\n",
    "\n",
    "cm = rsm.basics.compare_means({\"nyop_df\": nyop_df}, var1=\"Condition\", var2=\"UnitPrice\", alt_hyp=\"two-sided\")\n",
    "cm.summary()"
   ]
  },
  {
   "cell_type": "markdown",
   "metadata": {},
   "source": [
    "The p-value in the given hypothesis test is extremely low (less than 0.001), providing strong evidence against the null hypothesis. Therefore, we conclude in favor of the alternative hypothesis, indicating that there is a significant difference in the average unit price between the NYOP and NYOP with Charity pricing strategies."
   ]
  },
  {
   "cell_type": "markdown",
   "metadata": {},
   "source": [
    "A Type I error occurs when we reject a true null hypothesis. Since our p-value is very low (less than the alpha level of 0.05), the data suggests that it is very unlikely that we are making a Type I error. The low p-value indicates strong evidence against the null hypothesis, and thus we reject it in favor of the alternative hypothesis.\n",
    "\n",
    "The p-value is actually an estimate of the probability of observing the given data (or something more extreme) assuming that the null hypothesis is true. A p-value of < 0.05 means that there is less than 5% chance that the observed difference in means would occur if the null hypothesis were true. Therefore, the likelihood of committing a Type I error in this case seems to be very low."
   ]
  },
  {
   "cell_type": "markdown",
   "metadata": {},
   "source": [
    "A Type II error occurs when we fail to reject a false null hypothesis. In your case, we're rejecting the null hypothesis, so we're not in a situation where a Type II error would occur."
   ]
  },
  {
   "cell_type": "markdown",
   "metadata": {},
   "source": [
    "So, both the likelihoods of Type I and Type II errors seem to be low based on our test results."
   ]
  },
  {
   "cell_type": "markdown",
   "metadata": {},
   "source": [
    "Question f\n",
    "\n",
    "Use filtering to investigate the difference in means for people that purchased 1 picture. Similarly, do the analysis for the group that purchased 6 pictures. Discuss your observations."
   ]
  },
  {
   "cell_type": "code",
   "execution_count": 9,
   "metadata": {},
   "outputs": [
    {
     "name": "stdout",
     "output_type": "stream",
     "text": [
      "Pairwise mean comparisons (t-test)\n",
      "Data      : one_nyop_df\n",
      "Variables : Condition, UnitPrice\n",
      "Samples   : independent\n",
      "Confidence: 0.95\n",
      "Adjustment: None\n",
      "   Condition  mean    n  n_missing    sd    se    me\n",
      "        NYOP 1.177 1162          0 1.432 0.042 0.082\n",
      "NYOP Charity 5.941 1203          0 4.830 0.139 0.273\n",
      "          Null hyp.                      Alt. hyp.   diff p.value    \n",
      "NYOP = NYOP Charity NYOP not equal to NYOP Charity -4.765  < .001 ***\n",
      "\n",
      "Signif. codes:  0 '***' 0.001 '**' 0.01 '*' 0.05 '.' 0.1 ' ' 1\n"
     ]
    }
   ],
   "source": [
    "#one_picture\n",
    "\n",
    "one_nyop_df = nyop_df[nyop_df['Number'] == 1]\n",
    "one_cm = rsm.basics.compare_means({\"one_nyop_df\": one_nyop_df}, var1=\"Condition\", var2=\"UnitPrice\", alt_hyp=\"two-sided\")\n",
    "one_cm.summary()"
   ]
  },
  {
   "cell_type": "markdown",
   "metadata": {},
   "source": [
    "A Type I error occurs when we reject a true null hypothesis. Since our p-value is very low (less than the alpha level of 0.05), the data suggests that it is very unlikely that we are making a Type I error. The low p-value indicates strong evidence against the null hypothesis, and thus we reject it in favor of the alternative hypothesis.\n",
    "\n",
    "The p-value is actually an estimate of the probability of observing the given data (or something more extreme) assuming that the null hypothesis is true. A p-value of < 0.05 means that there is less than 5% chance that the observed difference in means would occur if the null hypothesis were true. Therefore, the likelihood of committing a Type I error in this case seems to be very low.\n",
    "\n",
    "A Type II error occurs when we fail to reject a false null hypothesis. In your case, we're rejecting the null hypothesis, so we're not in a situation where a Type II error would occur.\n",
    "\n",
    "So, both the likelihoods of Type I and Type II errors seem to be low based on our test results."
   ]
  },
  {
   "cell_type": "code",
   "execution_count": 10,
   "metadata": {},
   "outputs": [
    {
     "name": "stdout",
     "output_type": "stream",
     "text": [
      "Pairwise mean comparisons (t-test)\n",
      "Data      : six_nyop_df\n",
      "Variables : Condition, UnitPrice\n",
      "Samples   : independent\n",
      "Confidence: 0.95\n",
      "Adjustment: None\n",
      "   Condition  mean    n  n_missing    sd    se    me\n",
      "        NYOP 1.177 1162          0 1.432 0.042 0.082\n",
      "NYOP Charity 5.941 1203          0 4.830 0.139 0.273\n",
      "          Null hyp.                      Alt. hyp.   diff p.value    \n",
      "NYOP = NYOP Charity NYOP not equal to NYOP Charity -4.765  < .001 ***\n",
      "\n",
      "Signif. codes:  0 '***' 0.001 '**' 0.01 '*' 0.05 '.' 0.1 ' ' 1\n"
     ]
    }
   ],
   "source": [
    "#six_pictures\n",
    "\n",
    "six_nyop_df = nyop_df[nyop_df['Number'] == 6]\n",
    "six_cm = rsm.basics.compare_means({\"six_nyop_df\": one_nyop_df}, var1=\"Condition\", var2=\"UnitPrice\", alt_hyp=\"two-sided\")\n",
    "six_cm.summary()"
   ]
  },
  {
   "cell_type": "markdown",
   "metadata": {},
   "source": [
    "p-value: Since the p-value is greater than the alpha level of 0.05, we would fail to reject the null hypothesis. This means that, based on this sample, there's not enough evidence to say that the UnitPrice for \"NYOP\" and \"NYOP Charity\" are different.\n",
    "\n",
    "Type I Error: The risk of committing a Type I error (rejecting a true null hypothesis) is low here since we're not rejecting the null hypothesis.\n",
    "\n",
    "Type II Error: Because we failed to reject the null hypothesis, the risk of a Type II error (failing to reject a false null hypothesis) could be a concern. The p-value isn't extremely high, but it's above the typical 0.05 threshold, so we can't rule out the possibility that failing to find a significant difference is due to low statistical power, especially given the small sample sizes\n",
    "\n",
    "The small sample size and high standard errors (SE) suggest that this test may not have sufficient power to detect a real difference between the groups, if one exists, thus increasing the chance of a Type II error"
   ]
  },
  {
   "cell_type": "markdown",
   "metadata": {},
   "source": [
    "Question g\n",
    "\n",
    "If you do the analysis by hand for the group that purchased 6 pictures are your results the same as those produced above? Why or Why not?"
   ]
  },
  {
   "cell_type": "code",
   "execution_count": 11,
   "metadata": {},
   "outputs": [],
   "source": [
    "six_pic_nyop = six_nyop_df[six_nyop_df['Condition'] == 'NYOP']\n",
    "six_pic_nyop_charity = six_nyop_df[six_nyop_df['Condition'] == 'NYOP Charity']\n",
    "\n",
    "six_pic_nyop_mean = six_pic_nyop['UnitPrice'].mean()\n",
    "six_pic_nyop_charity_mean = six_pic_nyop_charity['UnitPrice'].mean()\n",
    "\n",
    "six_pic_nyop_std = six_pic_nyop['UnitPrice'].std()\n",
    "six_pic_nyop_charity_std = six_pic_nyop_charity['UnitPrice'].std()\n",
    "\n",
    "n5 = six_pic_nyop.shape[0]\n",
    "n6 = six_pic_nyop_charity.shape[0]"
   ]
  },
  {
   "cell_type": "code",
   "execution_count": 12,
   "metadata": {},
   "outputs": [
    {
     "name": "stdout",
     "output_type": "stream",
     "text": [
      "T value =  -1.383\n",
      "P value =  0.288\n"
     ]
    }
   ],
   "source": [
    "test_statistic = (six_pic_nyop_mean - six_pic_nyop_charity_mean)/ np.sqrt(((six_pic_nyop_std**2)/n5) + ((six_pic_nyop_charity_std**2)/n6))\n",
    "print(f\"T value = \", round(test_statistic,3))\n",
    "\n",
    "df_six = (six_pic_nyop_std**2/n5 + six_pic_nyop_charity_std**2/n6)**2 / ((six_pic_nyop_std**2/n5)**2/(n5-1) + (six_pic_nyop_charity_std**2/n6)**2/(n6-1))\n",
    "\n",
    "p_value = 2 * (1 - t.cdf(abs(test_statistic), df_six))\n",
    "print(f\"P value = \",round(p_value,3))"
   ]
  },
  {
   "cell_type": "markdown",
   "metadata": {},
   "source": [
    "Economics\n",
    "========="
   ]
  },
  {
   "cell_type": "markdown",
   "metadata": {},
   "source": [
    "Question a \n",
    "\n",
    "The unit cost of making a photo is $1.20. Compute the average daily profit under each of the four pricing strategies."
   ]
  },
  {
   "cell_type": "code",
   "execution_count": 13,
   "metadata": {},
   "outputs": [
    {
     "name": "stdout",
     "output_type": "stream",
     "text": [
      "    Condition  NumberSold  Riders  MerchandiseRevenues\n",
      "0          FR          77   12663              4592.41\n",
      "1          FR          63   15561              6688.57\n",
      "2  FR Charity          79   14796              6476.78\n",
      "3  FR Charity         101   15796              5845.94\n",
      "4        NYOP        1137   14077              4845.27\n",
      "  Condition  Number  Price\n",
      "0      NYOP       1   1.00\n",
      "1      NYOP       1   1.00\n",
      "2      NYOP       1   0.01\n",
      "3      NYOP       1   0.10\n",
      "4      NYOP       1   0.01\n"
     ]
    }
   ],
   "source": [
    "sales_df = pd.read_csv('Sales.csv')\n",
    "nyop_df = pd.read_csv('NYOP.csv')\n",
    "\n",
    "print(sales_df.head())\n",
    "print(nyop_df.head())"
   ]
  },
  {
   "cell_type": "code",
   "execution_count": 14,
   "metadata": {},
   "outputs": [
    {
     "name": "stdout",
     "output_type": "stream",
     "text": [
      "Average Daily Profit for FR: 822.5\n",
      "Average Daily Profit for FR Charity: 474.75\n",
      "Average Daily Profit for NYOP: -334.1\n",
      "Average Daily Profit for NYOP Charity: 885.518\n"
     ]
    }
   ],
   "source": [
    "#FR Daily Profit\n",
    "fr_df = sales_df[sales_df['Condition'] == 'FR']\n",
    "profit_fr = (fr_df['NumberSold'].sum()*(12.95 - 1.20))/2\n",
    "print(\"Average Daily Profit for FR: \" + str(profit_fr))\n",
    "\n",
    "#FRC Daily Profit\n",
    "frc_df = sales_df[sales_df['Condition'] == 'FR Charity']\n",
    "frc_df_revenue = frc_df['NumberSold'].sum()*(12.95*0.5)\n",
    "profit_frc = round((frc_df['NumberSold'].sum()*((12.95*0.5) - 1.20))/2 , 3)\n",
    "print(\"Average Daily Profit for FR Charity: \" + str(profit_frc))\n",
    "\n",
    "#NYOP Daily Profit\n",
    "nyop_df_ = nyop_df[nyop_df['Condition'] == 'NYOP']\n",
    "total_cost_nyop = nyop_df_['Number'].sum()*1.20\n",
    "total_revenue_nyop = nyop_df_['Price'].sum()\n",
    "profit_nyop = round((total_revenue_nyop - total_cost_nyop)/2, 3)\n",
    "print(\"Average Daily Profit for NYOP: \" + str(profit_nyop))\n",
    "\n",
    "#NYOPC Daily Profit\n",
    "nyopc_df = nyop_df[nyop_df['Condition'] == 'NYOP Charity']\n",
    "total_cost_nyopc = nyopc_df['Number'].sum()*1.20\n",
    "total_revenue_nyopc = (nyopc_df['Price'] * 0.5).sum()\n",
    "profit_nyopc = round((total_revenue_nyopc - total_cost_nyopc)/3, 3)\n",
    "print(\"Average Daily Profit for NYOP Charity: \" + str(profit_nyopc))"
   ]
  },
  {
   "cell_type": "markdown",
   "metadata": {},
   "source": [
    "Question b\n",
    "\n",
    "Which strategy is the most profitable? What is the ranking of the strategies in terms of profits?\n",
    "\n"
   ]
  },
  {
   "cell_type": "code",
   "execution_count": 15,
   "metadata": {},
   "outputs": [
    {
     "name": "stdout",
     "output_type": "stream",
     "text": [
      "      Condition  Average Daily theme park Profit\n",
      "0  NYOP Charity                          885.518\n",
      "1            FR                          822.500\n",
      "2    FR Charity                          474.750\n",
      "3          NYOP                         -334.100\n"
     ]
    }
   ],
   "source": [
    "import pandas as pd\n",
    "\n",
    "# Create a dictionary to store the conditions and their average daily profits\n",
    "data = {\n",
    "    'Condition': ['FR', 'FR Charity', 'NYOP', 'NYOP Charity'],\n",
    "    'Average Daily theme park Profit': [profit_fr, profit_frc, profit_nyop, profit_nyopc]\n",
    "}\n",
    "\n",
    "# Convert the dictionary into a DataFrame\n",
    "df = pd.DataFrame(data)\n",
    "\n",
    "# Sort the DataFrame by 'Average Daily Profit' in descending order\n",
    "sorted_df = df.sort_values(by=['Average Daily theme park Profit'], ascending=False, ignore_index=True)\n",
    "\n",
    "# Display the sorted DataFrame\n",
    "print(sorted_df)\n"
   ]
  },
  {
   "cell_type": "markdown",
   "metadata": {},
   "source": [
    "Among the four strategies, NYOP Charity yields the highest profit."
   ]
  },
  {
   "cell_type": "markdown",
   "metadata": {},
   "source": [
    "Question c\n",
    "\n",
    "Now think about the additional value created by the FR Charity and NYOP Charity conditions. Rather than focusing only on profits to the theme park, let’s talk about total profits to society which should include both the theme park and the charity that benefits. What is the ranking of societal profits in this case?"
   ]
  },
  {
   "cell_type": "code",
   "execution_count": 16,
   "metadata": {},
   "outputs": [
    {
     "name": "stdout",
     "output_type": "stream",
     "text": [
      "      Condition  Average Daily theme park Profit  \\\n",
      "0  NYOP Charity                          885.518   \n",
      "2    FR Charity                          474.750   \n",
      "1            FR                          822.500   \n",
      "3          NYOP                         -334.100   \n",
      "\n",
      "   Average Daily Societal Profit  Yearly Societal Profit  \n",
      "0                       2488.236               908206.14  \n",
      "2                       1057.500               385987.50  \n",
      "1                        822.500               300212.50  \n",
      "3                       -334.100              -121946.50  \n"
     ]
    }
   ],
   "source": [
    "#societal profits\n",
    "frc_societal_profit = sorted_df[sorted_df['Condition'] == 'FR Charity']['Average Daily theme park Profit'] + round(frc_df_revenue/2, 3)\n",
    "nyopc_societal_profit = sorted_df[sorted_df['Condition'] == 'NYOP Charity']['Average Daily theme park Profit'] + round(total_revenue_nyopc/3, 3)\n",
    "\n",
    "conditions = [\n",
    "    sorted_df[\"Condition\"] == \"FR Charity\",\n",
    "    sorted_df[\"Condition\"] == \"NYOP Charity\",\n",
    "]\n",
    "values = [\n",
    "    frc_societal_profit,\n",
    "    nyopc_societal_profit,\n",
    "]\n",
    "sorted_df['Average Daily Societal Profit'] = np.select(conditions,values,sorted_df[\"Average Daily theme park Profit\"])\n",
    "sorted_df.sort_values(by=['Average Daily Societal Profit'], ascending=False, inplace=True)\n",
    "sorted_df['Yearly Societal Profit'] = sorted_df['Average Daily Societal Profit'] * 365\n",
    "print(sorted_df)"
   ]
  },
  {
   "cell_type": "markdown",
   "metadata": {},
   "source": [
    "Question d\n",
    "How much additional societal profit does the leading strategy generate over the others over the entire year (assume 365 days)?\n"
   ]
  },
  {
   "cell_type": "code",
   "execution_count": 17,
   "metadata": {},
   "outputs": [
    {
     "data": {
      "text/html": [
       "<div>\n",
       "<style scoped>\n",
       "    .dataframe tbody tr th:only-of-type {\n",
       "        vertical-align: middle;\n",
       "    }\n",
       "\n",
       "    .dataframe tbody tr th {\n",
       "        vertical-align: top;\n",
       "    }\n",
       "\n",
       "    .dataframe thead th {\n",
       "        text-align: right;\n",
       "    }\n",
       "</style>\n",
       "<table border=\"1\" class=\"dataframe\">\n",
       "  <thead>\n",
       "    <tr style=\"text-align: right;\">\n",
       "      <th></th>\n",
       "      <th>Condition</th>\n",
       "      <th>Average Daily theme park Profit</th>\n",
       "      <th>Average Daily Societal Profit</th>\n",
       "      <th>Yearly Societal Profit</th>\n",
       "      <th>Additional Profit generated by NYOP Charity</th>\n",
       "    </tr>\n",
       "  </thead>\n",
       "  <tbody>\n",
       "    <tr>\n",
       "      <th>0</th>\n",
       "      <td>NYOP Charity</td>\n",
       "      <td>885.518</td>\n",
       "      <td>2488.236</td>\n",
       "      <td>908206.14</td>\n",
       "      <td>0.00</td>\n",
       "    </tr>\n",
       "    <tr>\n",
       "      <th>2</th>\n",
       "      <td>FR Charity</td>\n",
       "      <td>474.750</td>\n",
       "      <td>1057.500</td>\n",
       "      <td>385987.50</td>\n",
       "      <td>522218.64</td>\n",
       "    </tr>\n",
       "    <tr>\n",
       "      <th>1</th>\n",
       "      <td>FR</td>\n",
       "      <td>822.500</td>\n",
       "      <td>822.500</td>\n",
       "      <td>300212.50</td>\n",
       "      <td>607993.64</td>\n",
       "    </tr>\n",
       "    <tr>\n",
       "      <th>3</th>\n",
       "      <td>NYOP</td>\n",
       "      <td>-334.100</td>\n",
       "      <td>-334.100</td>\n",
       "      <td>-121946.50</td>\n",
       "      <td>1030152.64</td>\n",
       "    </tr>\n",
       "  </tbody>\n",
       "</table>\n",
       "</div>"
      ],
      "text/plain": [
       "      Condition  Average Daily theme park Profit  \\\n",
       "0  NYOP Charity                          885.518   \n",
       "2    FR Charity                          474.750   \n",
       "1            FR                          822.500   \n",
       "3          NYOP                         -334.100   \n",
       "\n",
       "   Average Daily Societal Profit  Yearly Societal Profit  \\\n",
       "0                       2488.236               908206.14   \n",
       "2                       1057.500               385987.50   \n",
       "1                        822.500               300212.50   \n",
       "3                       -334.100              -121946.50   \n",
       "\n",
       "   Additional Profit generated by NYOP Charity  \n",
       "0                                         0.00  \n",
       "2                                    522218.64  \n",
       "1                                    607993.64  \n",
       "3                                   1030152.64  "
      ]
     },
     "execution_count": 17,
     "metadata": {},
     "output_type": "execute_result"
    }
   ],
   "source": [
    "sorted_df['Additional Profit generated by NYOP Charity'] = abs(sorted_df['Yearly Societal Profit'] - sorted_df[sorted_df['Condition']=='NYOP Charity']['Yearly Societal Profit'].values[0])\n",
    "sorted_df"
   ]
  },
  {
   "cell_type": "markdown",
   "metadata": {},
   "source": [
    "Question_e\n",
    "Are merchandise sales a concern?"
   ]
  },
  {
   "cell_type": "code",
   "execution_count": 23,
   "metadata": {},
   "outputs": [
    {
     "data": {
      "text/plain": [
       "(-0.4758914703888096,\n",
       " 0.6810671641842052,\n",
       " -0.5657877462466617,\n",
       " 0.611093537921214)"
      ]
     },
     "execution_count": 23,
     "metadata": {},
     "output_type": "execute_result"
    }
   ],
   "source": [
    "# Extracting merchandise revenues for each condition\n",
    "fr_merchandise = sales_df[sales_df['Condition'] == 'FR']['MerchandiseRevenues']\n",
    "frc_merchandise = sales_df[sales_df['Condition'] == 'FR Charity']['MerchandiseRevenues']\n",
    "nyop_merchandise = sales_df[sales_df['Condition'] == 'NYOP']['MerchandiseRevenues']\n",
    "nyopc_merchandise = sales_df[sales_df['Condition'] == 'NYOP Charity']['MerchandiseRevenues']\n",
    "\n",
    "# Performing two-sample t-tests\n",
    "t_stat_fr, p_value_fr = ttest_ind(fr_merchandise, frc_merchandise)\n",
    "t_stat_nyop, p_value_nyop = ttest_ind(nyop_merchandise, nyopc_merchandise)\n",
    "\n",
    "t_stat_fr, p_value_fr, t_stat_nyop, p_value_nyop"
   ]
  },
  {
   "cell_type": "markdown",
   "metadata": {},
   "source": [
    "No merchandise sales are not a concern. After performning hypothesis testing, we can conclude that there is no difference in the average unit price between the NYOP and NYOP with Charity pricing strategies or FR and FR with charity pricing strategies in regards to our merchandise sales. Therefore, we can conclude that the merchandise sales are not a concern."
   ]
  },
  {
   "cell_type": "markdown",
   "metadata": {},
   "source": [
    "Final Analysis"
   ]
  },
  {
   "cell_type": "markdown",
   "metadata": {},
   "source": [
    "Shared Social Responsibility Review\n",
    "\n",
    "We have analyzed the information provided regarding the difference in sales and profitability, both personal and societal, between our theme park’s regular flat-rate pricing strategy, our Name Your Own Price pricing strategy, and charitable versions of both strategies. We have partnered with a nationally recognized patient-support foundation to provide this charitable service. Per our review of the information contained within our sales and NYOP sales data we have come to conclusions regarding our optimal strategies moving forward described below. Along with this we include a brief summary of the data used and the calculations involved in this analysis.\n",
    "\n",
    "Our data consists of daily sales data for sales of the photos taken during our guest’s ride on one of our roller coasters, the number of photos sold, the number of riders, and the total merchandise revenues for each of the four conditions. Each pricing strategy was utilized and observed individually for 2 days except for the NYOP Charity condition which was instead observed for 3 days.These photos are produced at a cost of $1.20 per photo and are not produced physically until a sale has been made. Our pricing is as follows:\n",
    "\n",
    "    $12.95 flat-rate price, i.e., FR\n",
    "\n",
    "    $12.95 flat-rate price with 50% of revenue going to charity\n",
    "\n",
    "    Name Your Own Price, i.e., NYOP\n",
    "\n",
    "    Name Your Own Price with 50% of revenue going to charity\n",
    "\n",
    "We began with a consideration of our sales efforts using our flat-rate pricing strategy alongside its equivalent charitable strategy. Within these strategies we found that the proportion of sales was roughly equal and there was not a statistically significant difference between the proportion of sales for either pricing strategy. Moving into the NYOP and NYOP charitable pricing strategies, we did find a statistically significant difference between the charitable and non-charitable strategies, with the proportion of sales for the charitable pricing strategy being 8.39% and the non-charitable strategy being only 4.07%. The large test statistics and near 0 p-value gives evidence that there is a difference between the two strategies with the charitable pricing strategy being the dominant strategy. As well, the average purchase price for the NYOP charitable pricing strategy was roughly 5 times higher than the non-charitable strategy, creating an even greater disparity between the two in terms of revenue generated.\n",
    "\n",
    "When taking into consideration the revenue in terms of its societal values we find again that the NYOP charitable pricing strategy is the dominant strategy, creating the highest overall societal profit. When extrapolated out to a year's worth of sales this is only magnified, however, the Flat Rate pricing strategy has the highest return for the theme park itself. Our average daily profits for each strategy can be seen below.\n",
    "\n",
    "    Average Daily Profit for FR: 822.5\n",
    "\n",
    "    Average Daily Profit for FR Charity: 474.75\n",
    "\n",
    "    Average Daily Profit for NYOP: -334.1\n",
    "\n",
    "    Average Daily Profit for NYOP Charity: 885.518\n",
    "\n",
    "Considerations must be made in regards to the optimal strategy moving forwards, as the theme parks continued profitability must be kept in mind. We would advise potentially testing a continued usage of the NYOP charitable pricing strategy, as our recent testing has shown it to have the highest daily profit of all pricing strategies, due in part to the higher quantity of photos sold, along with their higher profits during those days despite the outgoing charitable donations. \n",
    "\n",
    "To summarize our findings, our recommendation would be to move forwards with switching over to the Name Your Own Price charitable pricing strategy. The Name Your Own Price charitable strategy had the highest park profits, highest societal profits, and individual daily revenue, with those higher profits coming in after  considering that 50% went to our partnered organization. It may be worth testing continued NYOP charitable pricing strategies, as sales clearly increased when the strategy was utilized. The publicity gained from this along with the societal profits could be utilized by the theme park to propel our business forwards.\n"
   ]
  },
  {
   "cell_type": "markdown",
   "metadata": {},
   "source": []
  }
 ],
 "metadata": {
  "kernelspec": {
   "display_name": "base",
   "language": "python",
   "name": "python3"
  },
  "language_info": {
   "codemirror_mode": {
    "name": "ipython",
    "version": 3
   },
   "file_extension": ".py",
   "mimetype": "text/x-python",
   "name": "python",
   "nbconvert_exporter": "python",
   "pygments_lexer": "ipython3",
   "version": "3.11.6"
  }
 },
 "nbformat": 4,
 "nbformat_minor": 2
}
